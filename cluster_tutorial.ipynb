{
 "cells": [
  {
   "cell_type": "markdown",
   "metadata": {},
   "source": [
    "# How to use a cluster for your python code"
   ]
  },
  {
   "cell_type": "markdown",
   "metadata": {},
   "source": [
    "28th January 2021, DYNOSOB group seminar"
   ]
  },
  {
   "cell_type": "markdown",
   "metadata": {},
   "source": [
    "### I) Setting up: (Cloning the git repository into your local machine)"
   ]
  },
  {
   "cell_type": "markdown",
   "metadata": {},
   "source": [
    "```shell\n",
    "$ git clone https://github.com/Saptarshi07/cluster-tutorial\n",
    "```"
   ]
  },
  {
   "cell_type": "markdown",
   "metadata": {},
   "source": [
    "### II) Python basics: Command line inputs"
   ]
  },
  {
   "cell_type": "markdown",
   "metadata": {},
   "source": [
    "#### a) No command line input:\n",
    "\n",
    "*python file:*\n",
    "\n",
    "no_commandline.py\n",
    "\n",
    "```shell\n",
    "\n",
    "import sys\n",
    "\n",
    "u = 3\n",
    "v = 2\n",
    "..\n",
    "..\n",
    "..\n",
    "x = u - v + u*v\n",
    "\n",
    "print(x)\n",
    "```\n",
    "\n",
    "*terminal*\n",
    "\n",
    "```shell\n",
    "$ python no_commandline.py\n",
    ">>> 7```"
   ]
  },
  {
   "cell_type": "markdown",
   "metadata": {},
   "source": [
    "#### b) Command line input\n",
    "\n",
    "*python file*:\n",
    "\n",
    "commandline.py\n",
    "\n",
    "```shell\n",
    "\n",
    "import sys\n",
    "\n",
    "u = int(sys.argv[1])\n",
    "v = int(sys.argv[2])\n",
    "..\n",
    "..\n",
    "..\n",
    "x = u - v + u*v\n",
    "\n",
    "print(x)\n",
    "```\n",
    "\n",
    "*terminal*\n",
    "\n",
    "```shell\n",
    "$ python commandline.py 3 2\n",
    ">>> 7```\n",
    "\n"
   ]
  },
  {
   "cell_type": "markdown",
   "metadata": {},
   "source": [
    "## What is a cluster? What is SLURM?"
   ]
  },
  {
   "attachments": {},
   "cell_type": "markdown",
   "metadata": {},
   "source": [
    "For all we need to know -   \n",
    "\n",
    "1) A collection of interconnected computing **nodes** for our disposal  \n",
    "2) Each node is a collection of CPUs, just like your computer  \n",
    "3) SLURM is a software that stands for Simple Linux Utility Resource Manager - a \"glue\" for joining the nodes.\n",
    "\n"
   ]
  },
  {
   "cell_type": "markdown",
   "metadata": {},
   "source": [
    "Important links:  \n",
    "\n",
    "\n",
    "\n",
    "http://evoltheo001/wiki/index.php/Ada (information about ada)  \n",
    "http://ada1/doc/slurm/tutorials.html (SLURM tutorials)  \n",
    "http://ada1/ganglia/ (Monitoring the ada cluster -- not too important)  "
   ]
  },
  {
   "cell_type": "markdown",
   "metadata": {},
   "source": [
    "\n",
    "### III) Part 1: Tunneling into ADA (the MPI Evolbio cluster):"
   ]
  },
  {
   "cell_type": "markdown",
   "metadata": {},
   "source": [
    "In the command line type:\n",
    "\n",
    "```shell\n",
    "$ ssh username@ada1.evolbio.mpg.de\n",
    "```"
   ]
  },
  {
   "cell_type": "markdown",
   "metadata": {},
   "source": [
    "ideally you would have been prompted to type your ada password (given to you by Derk) -- however, you can bypass entering your password everytime by making the configs I made at your respective machines:"
   ]
  },
  {
   "cell_type": "markdown",
   "metadata": {},
   "source": [
    "1) \n",
    "```shell\n",
    "$ ssh-keygen -t rsa -b 4096 -C \"[username]@evolbio.mpg.de\"\n",
    "```\n",
    "\n",
    "\n",
    "Press ENTER on both the questions that you are asked (including passcode creation prompt)\n",
    "\n",
    "2) Create a file 'config' inside .ssh which exists in your root ~\n",
    "\n",
    "3) Paste the following in your config file: \n",
    "\n",
    "```shell\n",
    "Host ada\n",
    "    HostName ada1.evolbio.mpg.de\n",
    "    User [username_given_by_derk]\n",
    "```\n",
    "4) Type in your terminal the following and press ENTER. When prompted to give a password - type in the one given to you by Derk:\n",
    "\n",
    "```shell\n",
    "$ ssh-copy-id ada\n",
    "```"
   ]
  },
  {
   "cell_type": "markdown",
   "metadata": {},
   "source": [
    "All you need to do now is type from anywhere in your machine:\n",
    "\n",
    "```shell\n",
    "$ ssh ada \n",
    "```\n",
    "\n",
    "And you should be logged into ada: You can notice this by seeing the following:\n",
    "\n",
    "```shell\n",
    "[username@ada1 ~]\n",
    "```"
   ]
  },
  {
   "cell_type": "markdown",
   "metadata": {},
   "source": [
    "### Part 1.5 Some tools commands of SLURM"
   ]
  },
  {
   "cell_type": "markdown",
   "metadata": {},
   "source": [
    "```shell\n",
    "$ squeue\n",
    "```"
   ]
  },
  {
   "cell_type": "markdown",
   "metadata": {},
   "source": [
    "```shell\n",
    "$ squeue -u [username]\n",
    "```"
   ]
  },
  {
   "cell_type": "markdown",
   "metadata": {},
   "source": [
    "```shell\n",
    "$ sshare -all\n",
    "```"
   ]
  },
  {
   "cell_type": "markdown",
   "metadata": {},
   "source": [
    "```shell\n",
    "$ sinfo -O cpusstate\n",
    "```"
   ]
  },
  {
   "cell_type": "markdown",
   "metadata": {},
   "source": [
    "```shell\n",
    "$ scontrol show job [job id]\n",
    "```"
   ]
  },
  {
   "cell_type": "markdown",
   "metadata": {},
   "source": [
    "```shell\n",
    "$ sacct -S [start-date] -u [username]\n",
    "```"
   ]
  },
  {
   "cell_type": "markdown",
   "metadata": {},
   "source": [
    "### Part 2: Transfering files from local to cluster and cluster to local:"
   ]
  },
  {
   "cell_type": "markdown",
   "metadata": {},
   "source": [
    "### a) from local to cluster"
   ]
  },
  {
   "cell_type": "markdown",
   "metadata": {},
   "source": [
    "In the command line type (from anywhere in your local machine):\n",
    "\n",
    "```shell\n",
    "$ rsync -av [path_of_transferable] [username@ada1.evolbio.mpg.de:home/username/any further path]\n",
    "```"
   ]
  },
  {
   "cell_type": "markdown",
   "metadata": {},
   "source": [
    "### b) from cluster to local\n"
   ]
  },
  {
   "cell_type": "markdown",
   "metadata": {},
   "source": [
    "In the command line type (from anywhere in your local machine):\n",
    "\n",
    "```shell\n",
    "$ rsync -av [username@ada1.evolbio.mpg.de:home/username/path to folder or file] [path in your local computer]\n",
    "```"
   ]
  },
  {
   "cell_type": "markdown",
   "metadata": {},
   "source": [
    "If rsync from directory you wish to transfer to - \n",
    "\n",
    "```shell\n",
    "$ rsync -av [username@ada1.evolbio.mpg.de:home/username/path to folder or file] .\n",
    "```"
   ]
  },
  {
   "cell_type": "markdown",
   "metadata": {},
   "source": [
    "### Part 3: Running a single python file in cluster (no batch file)"
   ]
  },
  {
   "cell_type": "markdown",
   "metadata": {},
   "source": [
    "```shell\n",
    "$ python simple_python.py simple_text.py\n",
    "```"
   ]
  },
  {
   "cell_type": "markdown",
   "metadata": {},
   "source": [
    "### Part 4: Running a single python file in cluster (with batch file) - first job submission"
   ]
  },
  {
   "cell_type": "markdown",
   "metadata": {},
   "source": [
    "```shell\n",
    "$ sbatch my_first_batch.sh\n",
    "```"
   ]
  },
  {
   "cell_type": "markdown",
   "metadata": {},
   "source": [
    "check the details for your job (that just ran):"
   ]
  },
  {
   "cell_type": "markdown",
   "metadata": {},
   "source": [
    "```shell\n",
    "$ scontol job name [jobid]\n",
    "```"
   ]
  },
  {
   "cell_type": "markdown",
   "metadata": {},
   "source": [
    "make the following the changes to your batch file my_first_batch.sh by adding --output=output.out, --error=error.err"
   ]
  },
  {
   "cell_type": "markdown",
   "metadata": {},
   "source": [
    "### Part 5: Running the array job"
   ]
  },
  {
   "cell_type": "markdown",
   "metadata": {},
   "source": [
    "```shell\n",
    "$ sbatch --array=1-3 my_array.sh\n",
    "```"
   ]
  },
  {
   "cell_type": "markdown",
   "metadata": {},
   "source": [
    "### Part 6: A problem with numbers:"
   ]
  },
  {
   "cell_type": "markdown",
   "metadata": {},
   "source": [
    "```shell\n",
    "$ cd numbers\n",
    "```"
   ]
  },
  {
   "cell_type": "markdown",
   "metadata": {},
   "source": [
    "sigmoid.py calculates the sigmoidal function:"
   ]
  },
  {
   "cell_type": "markdown",
   "metadata": {},
   "source": [
    "$$ y = \\frac{K}{1 + e^{-\\beta(x - x_0)}}$$\n",
    "\n",
    "at point $x$ for parameters $K, \\beta, x_0$ mentioned at the text file passed as an argument in command line."
   ]
  },
  {
   "cell_type": "markdown",
   "metadata": {},
   "source": [
    "```shell\n",
    "$ python sigmoid.py test_point.txt\n",
    "```"
   ]
  },
  {
   "cell_type": "markdown",
   "metadata": {},
   "source": [
    "### Running the sigmoid as array in the cluster:"
   ]
  },
  {
   "cell_type": "markdown",
   "metadata": {},
   "source": [
    "```shell \n",
    "$ sbatch --array=1-2 sigmoid_array.py\n",
    "```"
   ]
  }
 ],
 "metadata": {
  "kernelspec": {
   "display_name": "Python 3",
   "language": "python",
   "name": "python3"
  },
  "language_info": {
   "codemirror_mode": {
    "name": "ipython",
    "version": 3
   },
   "file_extension": ".py",
   "mimetype": "text/x-python",
   "name": "python",
   "nbconvert_exporter": "python",
   "pygments_lexer": "ipython3",
   "version": "3.8.3"
  }
 },
 "nbformat": 4,
 "nbformat_minor": 4
}
